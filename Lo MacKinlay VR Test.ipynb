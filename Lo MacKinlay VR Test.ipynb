{
 "cells": [
  {
   "cell_type": "markdown",
   "id": "a5cb0740",
   "metadata": {},
   "source": [
    "# Market efficiency tests"
   ]
  },
  {
   "cell_type": "code",
   "execution_count": 1,
   "id": "7292e4af",
   "metadata": {},
   "outputs": [],
   "source": [
    "# Import dependencies \n",
    "import numpy as np\n",
    "import pandas as pd\n",
    "import matplotlib.pyplot as plt\n",
    "import scipy.stats as sps"
   ]
  },
  {
   "cell_type": "code",
   "execution_count": 2,
   "id": "aea16965",
   "metadata": {},
   "outputs": [],
   "source": [
    "# Read the previously extracted financial data. \n",
    "#df = pd.read_csv(\"BTCUSD.csv\")\n",
    "#df = pd.read_csv(\"ETHUSD.csv\")\n",
    "#df = pd.read_csv(\"BNBUSD.csv\")\n",
    "#df = pd.read_csv(\"XRPUSD.csv\")\n",
    "#df = pd.read_csv(\"SOLUSD.csv\")\n",
    "#df = pd.read_csv(\"ADAUSD.csv\")\n",
    "#df = pd.read_csv(\"DOGEUSD.csv\")\n",
    "#df = pd.read_csv(\"DOTUSD.csv\")\n",
    "#df = pd.read_csv(\"SHIBUSD.csv\")\n",
    "df = pd.read_csv(\"AVAXUSD.csv\")\n",
    "\n",
    "df = df.head(650)"
   ]
  },
  {
   "cell_type": "code",
   "execution_count": 3,
   "id": "48ef7afa",
   "metadata": {},
   "outputs": [
    {
     "data": {
      "text/html": [
       "<div>\n",
       "<style scoped>\n",
       "    .dataframe tbody tr th:only-of-type {\n",
       "        vertical-align: middle;\n",
       "    }\n",
       "\n",
       "    .dataframe tbody tr th {\n",
       "        vertical-align: top;\n",
       "    }\n",
       "\n",
       "    .dataframe thead th {\n",
       "        text-align: right;\n",
       "    }\n",
       "</style>\n",
       "<table border=\"1\" class=\"dataframe\">\n",
       "  <thead>\n",
       "    <tr style=\"text-align: right;\">\n",
       "      <th></th>\n",
       "      <th>Date</th>\n",
       "      <th>Prices</th>\n",
       "    </tr>\n",
       "  </thead>\n",
       "  <tbody>\n",
       "    <tr>\n",
       "      <th>0</th>\n",
       "      <td>Jul 01, 2022</td>\n",
       "      <td>$16.09</td>\n",
       "    </tr>\n",
       "    <tr>\n",
       "      <th>1</th>\n",
       "      <td>Jun 30, 2022</td>\n",
       "      <td>$16.93</td>\n",
       "    </tr>\n",
       "    <tr>\n",
       "      <th>2</th>\n",
       "      <td>Jun 29, 2022</td>\n",
       "      <td>$17.60</td>\n",
       "    </tr>\n",
       "    <tr>\n",
       "      <th>3</th>\n",
       "      <td>Jun 28, 2022</td>\n",
       "      <td>$18.12</td>\n",
       "    </tr>\n",
       "    <tr>\n",
       "      <th>4</th>\n",
       "      <td>Jun 27, 2022</td>\n",
       "      <td>$19.32</td>\n",
       "    </tr>\n",
       "    <tr>\n",
       "      <th>...</th>\n",
       "      <td>...</td>\n",
       "      <td>...</td>\n",
       "    </tr>\n",
       "    <tr>\n",
       "      <th>643</th>\n",
       "      <td>Sep 26, 2020</td>\n",
       "      <td>$4.54</td>\n",
       "    </tr>\n",
       "    <tr>\n",
       "      <th>644</th>\n",
       "      <td>Sep 25, 2020</td>\n",
       "      <td>$4.71</td>\n",
       "    </tr>\n",
       "    <tr>\n",
       "      <th>645</th>\n",
       "      <td>Sep 24, 2020</td>\n",
       "      <td>$4.57</td>\n",
       "    </tr>\n",
       "    <tr>\n",
       "      <th>646</th>\n",
       "      <td>Sep 23, 2020</td>\n",
       "      <td>$4.12</td>\n",
       "    </tr>\n",
       "    <tr>\n",
       "      <th>647</th>\n",
       "      <td>Sep 22, 2020</td>\n",
       "      <td>$5.23</td>\n",
       "    </tr>\n",
       "  </tbody>\n",
       "</table>\n",
       "<p>648 rows × 2 columns</p>\n",
       "</div>"
      ],
      "text/plain": [
       "             Date  Prices\n",
       "0    Jul 01, 2022  $16.09\n",
       "1    Jun 30, 2022  $16.93\n",
       "2    Jun 29, 2022  $17.60\n",
       "3    Jun 28, 2022  $18.12\n",
       "4    Jun 27, 2022  $19.32\n",
       "..            ...     ...\n",
       "643  Sep 26, 2020   $4.54\n",
       "644  Sep 25, 2020   $4.71\n",
       "645  Sep 24, 2020   $4.57\n",
       "646  Sep 23, 2020   $4.12\n",
       "647  Sep 22, 2020   $5.23\n",
       "\n",
       "[648 rows x 2 columns]"
      ]
     },
     "execution_count": 3,
     "metadata": {},
     "output_type": "execute_result"
    }
   ],
   "source": [
    "# Get the relevant information\n",
    "df_prices = df[['Date','Close**']]\n",
    "df_prices.columns = ['Date','Prices']\n",
    "df_prices"
   ]
  },
  {
   "cell_type": "code",
   "execution_count": 4,
   "id": "b3d34d8c",
   "metadata": {},
   "outputs": [
    {
     "data": {
      "text/html": [
       "<div>\n",
       "<style scoped>\n",
       "    .dataframe tbody tr th:only-of-type {\n",
       "        vertical-align: middle;\n",
       "    }\n",
       "\n",
       "    .dataframe tbody tr th {\n",
       "        vertical-align: top;\n",
       "    }\n",
       "\n",
       "    .dataframe thead th {\n",
       "        text-align: right;\n",
       "    }\n",
       "</style>\n",
       "<table border=\"1\" class=\"dataframe\">\n",
       "  <thead>\n",
       "    <tr style=\"text-align: right;\">\n",
       "      <th></th>\n",
       "      <th>Date</th>\n",
       "      <th>Prices</th>\n",
       "    </tr>\n",
       "  </thead>\n",
       "  <tbody>\n",
       "    <tr>\n",
       "      <th>647</th>\n",
       "      <td>Sep 22, 2020</td>\n",
       "      <td>$5.23</td>\n",
       "    </tr>\n",
       "    <tr>\n",
       "      <th>646</th>\n",
       "      <td>Sep 23, 2020</td>\n",
       "      <td>$4.12</td>\n",
       "    </tr>\n",
       "    <tr>\n",
       "      <th>645</th>\n",
       "      <td>Sep 24, 2020</td>\n",
       "      <td>$4.57</td>\n",
       "    </tr>\n",
       "    <tr>\n",
       "      <th>644</th>\n",
       "      <td>Sep 25, 2020</td>\n",
       "      <td>$4.71</td>\n",
       "    </tr>\n",
       "    <tr>\n",
       "      <th>643</th>\n",
       "      <td>Sep 26, 2020</td>\n",
       "      <td>$4.54</td>\n",
       "    </tr>\n",
       "    <tr>\n",
       "      <th>...</th>\n",
       "      <td>...</td>\n",
       "      <td>...</td>\n",
       "    </tr>\n",
       "    <tr>\n",
       "      <th>4</th>\n",
       "      <td>Jun 27, 2022</td>\n",
       "      <td>$19.32</td>\n",
       "    </tr>\n",
       "    <tr>\n",
       "      <th>3</th>\n",
       "      <td>Jun 28, 2022</td>\n",
       "      <td>$18.12</td>\n",
       "    </tr>\n",
       "    <tr>\n",
       "      <th>2</th>\n",
       "      <td>Jun 29, 2022</td>\n",
       "      <td>$17.60</td>\n",
       "    </tr>\n",
       "    <tr>\n",
       "      <th>1</th>\n",
       "      <td>Jun 30, 2022</td>\n",
       "      <td>$16.93</td>\n",
       "    </tr>\n",
       "    <tr>\n",
       "      <th>0</th>\n",
       "      <td>Jul 01, 2022</td>\n",
       "      <td>$16.09</td>\n",
       "    </tr>\n",
       "  </tbody>\n",
       "</table>\n",
       "<p>648 rows × 2 columns</p>\n",
       "</div>"
      ],
      "text/plain": [
       "             Date  Prices\n",
       "647  Sep 22, 2020   $5.23\n",
       "646  Sep 23, 2020   $4.12\n",
       "645  Sep 24, 2020   $4.57\n",
       "644  Sep 25, 2020   $4.71\n",
       "643  Sep 26, 2020   $4.54\n",
       "..            ...     ...\n",
       "4    Jun 27, 2022  $19.32\n",
       "3    Jun 28, 2022  $18.12\n",
       "2    Jun 29, 2022  $17.60\n",
       "1    Jun 30, 2022  $16.93\n",
       "0    Jul 01, 2022  $16.09\n",
       "\n",
       "[648 rows x 2 columns]"
      ]
     },
     "execution_count": 4,
     "metadata": {},
     "output_type": "execute_result"
    }
   ],
   "source": [
    "# Reverse the data frame to have a proper chronological order. \n",
    "df_prices=df_prices.loc[::-1]\n",
    "df_prices"
   ]
  },
  {
   "cell_type": "code",
   "execution_count": 5,
   "id": "357ffecb",
   "metadata": {},
   "outputs": [
    {
     "data": {
      "text/html": [
       "<div>\n",
       "<style scoped>\n",
       "    .dataframe tbody tr th:only-of-type {\n",
       "        vertical-align: middle;\n",
       "    }\n",
       "\n",
       "    .dataframe tbody tr th {\n",
       "        vertical-align: top;\n",
       "    }\n",
       "\n",
       "    .dataframe thead th {\n",
       "        text-align: right;\n",
       "    }\n",
       "</style>\n",
       "<table border=\"1\" class=\"dataframe\">\n",
       "  <thead>\n",
       "    <tr style=\"text-align: right;\">\n",
       "      <th></th>\n",
       "      <th>Prices</th>\n",
       "    </tr>\n",
       "    <tr>\n",
       "      <th>Date</th>\n",
       "      <th></th>\n",
       "    </tr>\n",
       "  </thead>\n",
       "  <tbody>\n",
       "    <tr>\n",
       "      <th>Sep 22, 2020</th>\n",
       "      <td>$5.23</td>\n",
       "    </tr>\n",
       "    <tr>\n",
       "      <th>Sep 23, 2020</th>\n",
       "      <td>$4.12</td>\n",
       "    </tr>\n",
       "    <tr>\n",
       "      <th>Sep 24, 2020</th>\n",
       "      <td>$4.57</td>\n",
       "    </tr>\n",
       "    <tr>\n",
       "      <th>Sep 25, 2020</th>\n",
       "      <td>$4.71</td>\n",
       "    </tr>\n",
       "    <tr>\n",
       "      <th>Sep 26, 2020</th>\n",
       "      <td>$4.54</td>\n",
       "    </tr>\n",
       "    <tr>\n",
       "      <th>...</th>\n",
       "      <td>...</td>\n",
       "    </tr>\n",
       "    <tr>\n",
       "      <th>Jun 27, 2022</th>\n",
       "      <td>$19.32</td>\n",
       "    </tr>\n",
       "    <tr>\n",
       "      <th>Jun 28, 2022</th>\n",
       "      <td>$18.12</td>\n",
       "    </tr>\n",
       "    <tr>\n",
       "      <th>Jun 29, 2022</th>\n",
       "      <td>$17.60</td>\n",
       "    </tr>\n",
       "    <tr>\n",
       "      <th>Jun 30, 2022</th>\n",
       "      <td>$16.93</td>\n",
       "    </tr>\n",
       "    <tr>\n",
       "      <th>Jul 01, 2022</th>\n",
       "      <td>$16.09</td>\n",
       "    </tr>\n",
       "  </tbody>\n",
       "</table>\n",
       "<p>648 rows × 1 columns</p>\n",
       "</div>"
      ],
      "text/plain": [
       "              Prices\n",
       "Date                \n",
       "Sep 22, 2020   $5.23\n",
       "Sep 23, 2020   $4.12\n",
       "Sep 24, 2020   $4.57\n",
       "Sep 25, 2020   $4.71\n",
       "Sep 26, 2020   $4.54\n",
       "...              ...\n",
       "Jun 27, 2022  $19.32\n",
       "Jun 28, 2022  $18.12\n",
       "Jun 29, 2022  $17.60\n",
       "Jun 30, 2022  $16.93\n",
       "Jul 01, 2022  $16.09\n",
       "\n",
       "[648 rows x 1 columns]"
      ]
     },
     "execution_count": 5,
     "metadata": {},
     "output_type": "execute_result"
    }
   ],
   "source": [
    "# Set the date as index to process each day. \n",
    "df_prices.set_index(['Date'], inplace=True)\n",
    "df_prices"
   ]
  },
  {
   "cell_type": "code",
   "execution_count": 6,
   "id": "eaa137bb",
   "metadata": {},
   "outputs": [
    {
     "name": "stderr",
     "output_type": "stream",
     "text": [
      "<ipython-input-6-c2832261f6f6>:2: FutureWarning: The default value of regex will change from True to False in a future version. In addition, single character regular expressions will*not* be treated as literal strings when regex=True.\n",
      "  df_prices['Prices'] = df_prices['Prices'].str.replace('$', '')\n",
      "<ipython-input-6-c2832261f6f6>:2: SettingWithCopyWarning: \n",
      "A value is trying to be set on a copy of a slice from a DataFrame.\n",
      "Try using .loc[row_indexer,col_indexer] = value instead\n",
      "\n",
      "See the caveats in the documentation: https://pandas.pydata.org/pandas-docs/stable/user_guide/indexing.html#returning-a-view-versus-a-copy\n",
      "  df_prices['Prices'] = df_prices['Prices'].str.replace('$', '')\n",
      "<ipython-input-6-c2832261f6f6>:3: SettingWithCopyWarning: \n",
      "A value is trying to be set on a copy of a slice from a DataFrame.\n",
      "Try using .loc[row_indexer,col_indexer] = value instead\n",
      "\n",
      "See the caveats in the documentation: https://pandas.pydata.org/pandas-docs/stable/user_guide/indexing.html#returning-a-view-versus-a-copy\n",
      "  df_prices['Prices'] = df_prices['Prices'].str.replace(',', '')\n"
     ]
    },
    {
     "data": {
      "text/html": [
       "<div>\n",
       "<style scoped>\n",
       "    .dataframe tbody tr th:only-of-type {\n",
       "        vertical-align: middle;\n",
       "    }\n",
       "\n",
       "    .dataframe tbody tr th {\n",
       "        vertical-align: top;\n",
       "    }\n",
       "\n",
       "    .dataframe thead th {\n",
       "        text-align: right;\n",
       "    }\n",
       "</style>\n",
       "<table border=\"1\" class=\"dataframe\">\n",
       "  <thead>\n",
       "    <tr style=\"text-align: right;\">\n",
       "      <th></th>\n",
       "      <th>Prices</th>\n",
       "    </tr>\n",
       "    <tr>\n",
       "      <th>Date</th>\n",
       "      <th></th>\n",
       "    </tr>\n",
       "  </thead>\n",
       "  <tbody>\n",
       "    <tr>\n",
       "      <th>Sep 22, 2020</th>\n",
       "      <td>5.23</td>\n",
       "    </tr>\n",
       "    <tr>\n",
       "      <th>Sep 23, 2020</th>\n",
       "      <td>4.12</td>\n",
       "    </tr>\n",
       "    <tr>\n",
       "      <th>Sep 24, 2020</th>\n",
       "      <td>4.57</td>\n",
       "    </tr>\n",
       "    <tr>\n",
       "      <th>Sep 25, 2020</th>\n",
       "      <td>4.71</td>\n",
       "    </tr>\n",
       "    <tr>\n",
       "      <th>Sep 26, 2020</th>\n",
       "      <td>4.54</td>\n",
       "    </tr>\n",
       "    <tr>\n",
       "      <th>...</th>\n",
       "      <td>...</td>\n",
       "    </tr>\n",
       "    <tr>\n",
       "      <th>Jun 27, 2022</th>\n",
       "      <td>19.32</td>\n",
       "    </tr>\n",
       "    <tr>\n",
       "      <th>Jun 28, 2022</th>\n",
       "      <td>18.12</td>\n",
       "    </tr>\n",
       "    <tr>\n",
       "      <th>Jun 29, 2022</th>\n",
       "      <td>17.60</td>\n",
       "    </tr>\n",
       "    <tr>\n",
       "      <th>Jun 30, 2022</th>\n",
       "      <td>16.93</td>\n",
       "    </tr>\n",
       "    <tr>\n",
       "      <th>Jul 01, 2022</th>\n",
       "      <td>16.09</td>\n",
       "    </tr>\n",
       "  </tbody>\n",
       "</table>\n",
       "<p>648 rows × 1 columns</p>\n",
       "</div>"
      ],
      "text/plain": [
       "             Prices\n",
       "Date               \n",
       "Sep 22, 2020   5.23\n",
       "Sep 23, 2020   4.12\n",
       "Sep 24, 2020   4.57\n",
       "Sep 25, 2020   4.71\n",
       "Sep 26, 2020   4.54\n",
       "...             ...\n",
       "Jun 27, 2022  19.32\n",
       "Jun 28, 2022  18.12\n",
       "Jun 29, 2022  17.60\n",
       "Jun 30, 2022  16.93\n",
       "Jul 01, 2022  16.09\n",
       "\n",
       "[648 rows x 1 columns]"
      ]
     },
     "execution_count": 6,
     "metadata": {},
     "output_type": "execute_result"
    }
   ],
   "source": [
    "# Get rid of the commas & dollar signs. \n",
    "df_prices['Prices'] = df_prices['Prices'].str.replace('$', '')\n",
    "df_prices['Prices'] = df_prices['Prices'].str.replace(',', '')\n",
    "df_prices"
   ]
  },
  {
   "cell_type": "code",
   "execution_count": 7,
   "id": "f8981112",
   "metadata": {},
   "outputs": [
    {
     "name": "stderr",
     "output_type": "stream",
     "text": [
      "<ipython-input-7-e4dcad7b2e19>:2: SettingWithCopyWarning: \n",
      "A value is trying to be set on a copy of a slice from a DataFrame.\n",
      "Try using .loc[row_indexer,col_indexer] = value instead\n",
      "\n",
      "See the caveats in the documentation: https://pandas.pydata.org/pandas-docs/stable/user_guide/indexing.html#returning-a-view-versus-a-copy\n",
      "  df_prices['Prices'] = df_prices['Prices'].astype(float)\n"
     ]
    },
    {
     "data": {
      "text/plain": [
       "Date\n",
       "Sep 22, 2020     5.23\n",
       "Sep 23, 2020     4.12\n",
       "Sep 24, 2020     4.57\n",
       "Sep 25, 2020     4.71\n",
       "Sep 26, 2020     4.54\n",
       "                ...  \n",
       "Jun 27, 2022    19.32\n",
       "Jun 28, 2022    18.12\n",
       "Jun 29, 2022    17.60\n",
       "Jun 30, 2022    16.93\n",
       "Jul 01, 2022    16.09\n",
       "Name: Prices, Length: 648, dtype: float64"
      ]
     },
     "execution_count": 7,
     "metadata": {},
     "output_type": "execute_result"
    }
   ],
   "source": [
    "# Convert the data to float. \n",
    "df_prices['Prices'] = df_prices['Prices'].astype(float)\n",
    "df_prices['Prices']"
   ]
  },
  {
   "cell_type": "code",
   "execution_count": 8,
   "id": "02ca3e94",
   "metadata": {},
   "outputs": [
    {
     "data": {
      "text/html": [
       "<div>\n",
       "<style scoped>\n",
       "    .dataframe tbody tr th:only-of-type {\n",
       "        vertical-align: middle;\n",
       "    }\n",
       "\n",
       "    .dataframe tbody tr th {\n",
       "        vertical-align: top;\n",
       "    }\n",
       "\n",
       "    .dataframe thead th {\n",
       "        text-align: right;\n",
       "    }\n",
       "</style>\n",
       "<table border=\"1\" class=\"dataframe\">\n",
       "  <thead>\n",
       "    <tr style=\"text-align: right;\">\n",
       "      <th></th>\n",
       "      <th>Prices</th>\n",
       "      <th>Returns</th>\n",
       "    </tr>\n",
       "    <tr>\n",
       "      <th>Date</th>\n",
       "      <th></th>\n",
       "      <th></th>\n",
       "    </tr>\n",
       "  </thead>\n",
       "  <tbody>\n",
       "    <tr>\n",
       "      <th>Sep 22, 2020</th>\n",
       "      <td>5.23</td>\n",
       "      <td>NaN</td>\n",
       "    </tr>\n",
       "    <tr>\n",
       "      <th>Sep 23, 2020</th>\n",
       "      <td>4.12</td>\n",
       "      <td>-0.212237</td>\n",
       "    </tr>\n",
       "    <tr>\n",
       "      <th>Sep 24, 2020</th>\n",
       "      <td>4.57</td>\n",
       "      <td>0.109223</td>\n",
       "    </tr>\n",
       "    <tr>\n",
       "      <th>Sep 25, 2020</th>\n",
       "      <td>4.71</td>\n",
       "      <td>0.030635</td>\n",
       "    </tr>\n",
       "    <tr>\n",
       "      <th>Sep 26, 2020</th>\n",
       "      <td>4.54</td>\n",
       "      <td>-0.036093</td>\n",
       "    </tr>\n",
       "    <tr>\n",
       "      <th>...</th>\n",
       "      <td>...</td>\n",
       "      <td>...</td>\n",
       "    </tr>\n",
       "    <tr>\n",
       "      <th>Jun 27, 2022</th>\n",
       "      <td>19.32</td>\n",
       "      <td>-0.018791</td>\n",
       "    </tr>\n",
       "    <tr>\n",
       "      <th>Jun 28, 2022</th>\n",
       "      <td>18.12</td>\n",
       "      <td>-0.062112</td>\n",
       "    </tr>\n",
       "    <tr>\n",
       "      <th>Jun 29, 2022</th>\n",
       "      <td>17.60</td>\n",
       "      <td>-0.028698</td>\n",
       "    </tr>\n",
       "    <tr>\n",
       "      <th>Jun 30, 2022</th>\n",
       "      <td>16.93</td>\n",
       "      <td>-0.038068</td>\n",
       "    </tr>\n",
       "    <tr>\n",
       "      <th>Jul 01, 2022</th>\n",
       "      <td>16.09</td>\n",
       "      <td>-0.049616</td>\n",
       "    </tr>\n",
       "  </tbody>\n",
       "</table>\n",
       "<p>648 rows × 2 columns</p>\n",
       "</div>"
      ],
      "text/plain": [
       "              Prices   Returns\n",
       "Date                          \n",
       "Sep 22, 2020    5.23       NaN\n",
       "Sep 23, 2020    4.12 -0.212237\n",
       "Sep 24, 2020    4.57  0.109223\n",
       "Sep 25, 2020    4.71  0.030635\n",
       "Sep 26, 2020    4.54 -0.036093\n",
       "...              ...       ...\n",
       "Jun 27, 2022   19.32 -0.018791\n",
       "Jun 28, 2022   18.12 -0.062112\n",
       "Jun 29, 2022   17.60 -0.028698\n",
       "Jun 30, 2022   16.93 -0.038068\n",
       "Jul 01, 2022   16.09 -0.049616\n",
       "\n",
       "[648 rows x 2 columns]"
      ]
     },
     "execution_count": 8,
     "metadata": {},
     "output_type": "execute_result"
    }
   ],
   "source": [
    "# Calculate the returns on a daily basis. \n",
    "df_prices['Returns'] = df_prices['Prices'].pct_change()\n",
    "df_prices"
   ]
  },
  {
   "cell_type": "code",
   "execution_count": 9,
   "id": "7fbacda1",
   "metadata": {},
   "outputs": [
    {
     "data": {
      "text/html": [
       "<div>\n",
       "<style scoped>\n",
       "    .dataframe tbody tr th:only-of-type {\n",
       "        vertical-align: middle;\n",
       "    }\n",
       "\n",
       "    .dataframe tbody tr th {\n",
       "        vertical-align: top;\n",
       "    }\n",
       "\n",
       "    .dataframe thead th {\n",
       "        text-align: right;\n",
       "    }\n",
       "</style>\n",
       "<table border=\"1\" class=\"dataframe\">\n",
       "  <thead>\n",
       "    <tr style=\"text-align: right;\">\n",
       "      <th></th>\n",
       "      <th>Prices</th>\n",
       "      <th>Returns</th>\n",
       "      <th>LogPrices</th>\n",
       "    </tr>\n",
       "    <tr>\n",
       "      <th>Date</th>\n",
       "      <th></th>\n",
       "      <th></th>\n",
       "      <th></th>\n",
       "    </tr>\n",
       "  </thead>\n",
       "  <tbody>\n",
       "    <tr>\n",
       "      <th>Sep 22, 2020</th>\n",
       "      <td>5.23</td>\n",
       "      <td>NaN</td>\n",
       "      <td>1.654411</td>\n",
       "    </tr>\n",
       "    <tr>\n",
       "      <th>Sep 23, 2020</th>\n",
       "      <td>4.12</td>\n",
       "      <td>-0.212237</td>\n",
       "      <td>1.415853</td>\n",
       "    </tr>\n",
       "    <tr>\n",
       "      <th>Sep 24, 2020</th>\n",
       "      <td>4.57</td>\n",
       "      <td>0.109223</td>\n",
       "      <td>1.519513</td>\n",
       "    </tr>\n",
       "    <tr>\n",
       "      <th>Sep 25, 2020</th>\n",
       "      <td>4.71</td>\n",
       "      <td>0.030635</td>\n",
       "      <td>1.549688</td>\n",
       "    </tr>\n",
       "    <tr>\n",
       "      <th>Sep 26, 2020</th>\n",
       "      <td>4.54</td>\n",
       "      <td>-0.036093</td>\n",
       "      <td>1.512927</td>\n",
       "    </tr>\n",
       "    <tr>\n",
       "      <th>...</th>\n",
       "      <td>...</td>\n",
       "      <td>...</td>\n",
       "      <td>...</td>\n",
       "    </tr>\n",
       "    <tr>\n",
       "      <th>Jun 27, 2022</th>\n",
       "      <td>19.32</td>\n",
       "      <td>-0.018791</td>\n",
       "      <td>2.961141</td>\n",
       "    </tr>\n",
       "    <tr>\n",
       "      <th>Jun 28, 2022</th>\n",
       "      <td>18.12</td>\n",
       "      <td>-0.062112</td>\n",
       "      <td>2.897016</td>\n",
       "    </tr>\n",
       "    <tr>\n",
       "      <th>Jun 29, 2022</th>\n",
       "      <td>17.60</td>\n",
       "      <td>-0.028698</td>\n",
       "      <td>2.867899</td>\n",
       "    </tr>\n",
       "    <tr>\n",
       "      <th>Jun 30, 2022</th>\n",
       "      <td>16.93</td>\n",
       "      <td>-0.038068</td>\n",
       "      <td>2.829087</td>\n",
       "    </tr>\n",
       "    <tr>\n",
       "      <th>Jul 01, 2022</th>\n",
       "      <td>16.09</td>\n",
       "      <td>-0.049616</td>\n",
       "      <td>2.778198</td>\n",
       "    </tr>\n",
       "  </tbody>\n",
       "</table>\n",
       "<p>648 rows × 3 columns</p>\n",
       "</div>"
      ],
      "text/plain": [
       "              Prices   Returns  LogPrices\n",
       "Date                                     \n",
       "Sep 22, 2020    5.23       NaN   1.654411\n",
       "Sep 23, 2020    4.12 -0.212237   1.415853\n",
       "Sep 24, 2020    4.57  0.109223   1.519513\n",
       "Sep 25, 2020    4.71  0.030635   1.549688\n",
       "Sep 26, 2020    4.54 -0.036093   1.512927\n",
       "...              ...       ...        ...\n",
       "Jun 27, 2022   19.32 -0.018791   2.961141\n",
       "Jun 28, 2022   18.12 -0.062112   2.897016\n",
       "Jun 29, 2022   17.60 -0.028698   2.867899\n",
       "Jun 30, 2022   16.93 -0.038068   2.829087\n",
       "Jul 01, 2022   16.09 -0.049616   2.778198\n",
       "\n",
       "[648 rows x 3 columns]"
      ]
     },
     "execution_count": 9,
     "metadata": {},
     "output_type": "execute_result"
    }
   ],
   "source": [
    "# Calculate the log prices on a daily basis. \n",
    "df_prices['LogPrices'] = np.log(df_prices['Prices'])\n",
    "df_prices"
   ]
  },
  {
   "cell_type": "code",
   "execution_count": 10,
   "id": "b06ba4f8",
   "metadata": {},
   "outputs": [
    {
     "data": {
      "text/plain": [
       "Returns    0.75\n",
       "dtype: float64"
      ]
     },
     "execution_count": 10,
     "metadata": {},
     "output_type": "execute_result"
    }
   ],
   "source": [
    "df_prices[['Returns']].max()"
   ]
  },
  {
   "cell_type": "code",
   "execution_count": 11,
   "id": "9d17ad99",
   "metadata": {},
   "outputs": [
    {
     "data": {
      "text/plain": [
       "Returns   -0.365019\n",
       "dtype: float64"
      ]
     },
     "execution_count": 11,
     "metadata": {},
     "output_type": "execute_result"
    }
   ],
   "source": [
    "df_prices[['Returns']].min()"
   ]
  },
  {
   "cell_type": "code",
   "execution_count": 12,
   "id": "b49c6d32",
   "metadata": {},
   "outputs": [
    {
     "data": {
      "text/html": [
       "<div>\n",
       "<style scoped>\n",
       "    .dataframe tbody tr th:only-of-type {\n",
       "        vertical-align: middle;\n",
       "    }\n",
       "\n",
       "    .dataframe tbody tr th {\n",
       "        vertical-align: top;\n",
       "    }\n",
       "\n",
       "    .dataframe thead th {\n",
       "        text-align: right;\n",
       "    }\n",
       "</style>\n",
       "<table border=\"1\" class=\"dataframe\">\n",
       "  <thead>\n",
       "    <tr style=\"text-align: right;\">\n",
       "      <th></th>\n",
       "      <th>Prices</th>\n",
       "      <th>Returns</th>\n",
       "      <th>LogPrices</th>\n",
       "      <th>LogReturns</th>\n",
       "    </tr>\n",
       "    <tr>\n",
       "      <th>Date</th>\n",
       "      <th></th>\n",
       "      <th></th>\n",
       "      <th></th>\n",
       "      <th></th>\n",
       "    </tr>\n",
       "  </thead>\n",
       "  <tbody>\n",
       "    <tr>\n",
       "      <th>Sep 23, 2020</th>\n",
       "      <td>4.12</td>\n",
       "      <td>-0.212237</td>\n",
       "      <td>1.415853</td>\n",
       "      <td>-0.238558</td>\n",
       "    </tr>\n",
       "    <tr>\n",
       "      <th>Sep 24, 2020</th>\n",
       "      <td>4.57</td>\n",
       "      <td>0.109223</td>\n",
       "      <td>1.519513</td>\n",
       "      <td>0.103660</td>\n",
       "    </tr>\n",
       "    <tr>\n",
       "      <th>Sep 25, 2020</th>\n",
       "      <td>4.71</td>\n",
       "      <td>0.030635</td>\n",
       "      <td>1.549688</td>\n",
       "      <td>0.030175</td>\n",
       "    </tr>\n",
       "    <tr>\n",
       "      <th>Sep 26, 2020</th>\n",
       "      <td>4.54</td>\n",
       "      <td>-0.036093</td>\n",
       "      <td>1.512927</td>\n",
       "      <td>-0.036761</td>\n",
       "    </tr>\n",
       "    <tr>\n",
       "      <th>Sep 27, 2020</th>\n",
       "      <td>4.63</td>\n",
       "      <td>0.019824</td>\n",
       "      <td>1.532557</td>\n",
       "      <td>0.019630</td>\n",
       "    </tr>\n",
       "    <tr>\n",
       "      <th>...</th>\n",
       "      <td>...</td>\n",
       "      <td>...</td>\n",
       "      <td>...</td>\n",
       "      <td>...</td>\n",
       "    </tr>\n",
       "    <tr>\n",
       "      <th>Jun 27, 2022</th>\n",
       "      <td>19.32</td>\n",
       "      <td>-0.018791</td>\n",
       "      <td>2.961141</td>\n",
       "      <td>-0.018970</td>\n",
       "    </tr>\n",
       "    <tr>\n",
       "      <th>Jun 28, 2022</th>\n",
       "      <td>18.12</td>\n",
       "      <td>-0.062112</td>\n",
       "      <td>2.897016</td>\n",
       "      <td>-0.064125</td>\n",
       "    </tr>\n",
       "    <tr>\n",
       "      <th>Jun 29, 2022</th>\n",
       "      <td>17.60</td>\n",
       "      <td>-0.028698</td>\n",
       "      <td>2.867899</td>\n",
       "      <td>-0.029117</td>\n",
       "    </tr>\n",
       "    <tr>\n",
       "      <th>Jun 30, 2022</th>\n",
       "      <td>16.93</td>\n",
       "      <td>-0.038068</td>\n",
       "      <td>2.829087</td>\n",
       "      <td>-0.038812</td>\n",
       "    </tr>\n",
       "    <tr>\n",
       "      <th>Jul 01, 2022</th>\n",
       "      <td>16.09</td>\n",
       "      <td>-0.049616</td>\n",
       "      <td>2.778198</td>\n",
       "      <td>-0.050889</td>\n",
       "    </tr>\n",
       "  </tbody>\n",
       "</table>\n",
       "<p>647 rows × 4 columns</p>\n",
       "</div>"
      ],
      "text/plain": [
       "              Prices   Returns  LogPrices  LogReturns\n",
       "Date                                                 \n",
       "Sep 23, 2020    4.12 -0.212237   1.415853   -0.238558\n",
       "Sep 24, 2020    4.57  0.109223   1.519513    0.103660\n",
       "Sep 25, 2020    4.71  0.030635   1.549688    0.030175\n",
       "Sep 26, 2020    4.54 -0.036093   1.512927   -0.036761\n",
       "Sep 27, 2020    4.63  0.019824   1.532557    0.019630\n",
       "...              ...       ...        ...         ...\n",
       "Jun 27, 2022   19.32 -0.018791   2.961141   -0.018970\n",
       "Jun 28, 2022   18.12 -0.062112   2.897016   -0.064125\n",
       "Jun 29, 2022   17.60 -0.028698   2.867899   -0.029117\n",
       "Jun 30, 2022   16.93 -0.038068   2.829087   -0.038812\n",
       "Jul 01, 2022   16.09 -0.049616   2.778198   -0.050889\n",
       "\n",
       "[647 rows x 4 columns]"
      ]
     },
     "execution_count": 12,
     "metadata": {},
     "output_type": "execute_result"
    }
   ],
   "source": [
    "# Calculate the log returns on a daily basis. \n",
    "df_prices['LogReturns'] = np.log(df_prices.Prices) - np.log(df_prices.Prices.shift(1))\n",
    "# Drop the first row since it will not produce a meaningful return value.\n",
    "df_prices.dropna(inplace=True)\n",
    "df_prices"
   ]
  },
  {
   "cell_type": "code",
   "execution_count": 13,
   "id": "52a67005",
   "metadata": {},
   "outputs": [
    {
     "data": {
      "text/html": [
       "<div>\n",
       "<style scoped>\n",
       "    .dataframe tbody tr th:only-of-type {\n",
       "        vertical-align: middle;\n",
       "    }\n",
       "\n",
       "    .dataframe tbody tr th {\n",
       "        vertical-align: top;\n",
       "    }\n",
       "\n",
       "    .dataframe thead th {\n",
       "        text-align: right;\n",
       "    }\n",
       "</style>\n",
       "<table border=\"1\" class=\"dataframe\">\n",
       "  <thead>\n",
       "    <tr style=\"text-align: right;\">\n",
       "      <th></th>\n",
       "      <th>Prices</th>\n",
       "      <th>Returns</th>\n",
       "      <th>LogPrices</th>\n",
       "      <th>LogReturns</th>\n",
       "    </tr>\n",
       "  </thead>\n",
       "  <tbody>\n",
       "    <tr>\n",
       "      <th>count</th>\n",
       "      <td>647.000000</td>\n",
       "      <td>647.000000</td>\n",
       "      <td>647.000000</td>\n",
       "      <td>647.000000</td>\n",
       "    </tr>\n",
       "    <tr>\n",
       "      <th>mean</th>\n",
       "      <td>42.047110</td>\n",
       "      <td>0.005142</td>\n",
       "      <td>3.264379</td>\n",
       "      <td>0.001737</td>\n",
       "    </tr>\n",
       "    <tr>\n",
       "      <th>std</th>\n",
       "      <td>33.904694</td>\n",
       "      <td>0.084759</td>\n",
       "      <td>1.113731</td>\n",
       "      <td>0.081847</td>\n",
       "    </tr>\n",
       "    <tr>\n",
       "      <th>min</th>\n",
       "      <td>2.910000</td>\n",
       "      <td>-0.365019</td>\n",
       "      <td>1.068153</td>\n",
       "      <td>-0.454160</td>\n",
       "    </tr>\n",
       "    <tr>\n",
       "      <th>25%</th>\n",
       "      <td>12.535000</td>\n",
       "      <td>-0.044523</td>\n",
       "      <td>2.528525</td>\n",
       "      <td>-0.045545</td>\n",
       "    </tr>\n",
       "    <tr>\n",
       "      <th>50%</th>\n",
       "      <td>30.730000</td>\n",
       "      <td>0.000435</td>\n",
       "      <td>3.425239</td>\n",
       "      <td>0.000435</td>\n",
       "    </tr>\n",
       "    <tr>\n",
       "      <th>75%</th>\n",
       "      <td>70.035000</td>\n",
       "      <td>0.044165</td>\n",
       "      <td>4.248995</td>\n",
       "      <td>0.043217</td>\n",
       "    </tr>\n",
       "    <tr>\n",
       "      <th>max</th>\n",
       "      <td>134.530000</td>\n",
       "      <td>0.750000</td>\n",
       "      <td>4.901787</td>\n",
       "      <td>0.559616</td>\n",
       "    </tr>\n",
       "  </tbody>\n",
       "</table>\n",
       "</div>"
      ],
      "text/plain": [
       "           Prices     Returns   LogPrices  LogReturns\n",
       "count  647.000000  647.000000  647.000000  647.000000\n",
       "mean    42.047110    0.005142    3.264379    0.001737\n",
       "std     33.904694    0.084759    1.113731    0.081847\n",
       "min      2.910000   -0.365019    1.068153   -0.454160\n",
       "25%     12.535000   -0.044523    2.528525   -0.045545\n",
       "50%     30.730000    0.000435    3.425239    0.000435\n",
       "75%     70.035000    0.044165    4.248995    0.043217\n",
       "max    134.530000    0.750000    4.901787    0.559616"
      ]
     },
     "execution_count": 13,
     "metadata": {},
     "output_type": "execute_result"
    }
   ],
   "source": [
    "# Describe the dataframe to have an idea on its properties and distribution. \n",
    "df_prices.describe()"
   ]
  },
  {
   "cell_type": "markdown",
   "id": "2f91b4a6",
   "metadata": {},
   "source": [
    "# Lo MacKinlay Test"
   ]
  },
  {
   "cell_type": "code",
   "execution_count": 14,
   "id": "8375e8d1",
   "metadata": {},
   "outputs": [
    {
     "name": "stdout",
     "output_type": "stream",
     "text": [
      "Number of days: 647\n"
     ]
    },
    {
     "data": {
      "text/plain": [
       "0.006698870733542406"
      ]
     },
     "execution_count": 14,
     "metadata": {},
     "output_type": "execute_result"
    }
   ],
   "source": [
    "# Calculate the daily return variance and the number of days (corresponds to n in the formula). \n",
    "number_of_days = len(df_prices)\n",
    "print('Number of days:',number_of_days)\n",
    "variance_single_day = df_prices['LogReturns'].var()\n",
    "variance_single_day"
   ]
  },
  {
   "cell_type": "code",
   "execution_count": 15,
   "id": "9a953962",
   "metadata": {},
   "outputs": [
    {
     "data": {
      "text/plain": [
       "[2, 4, 8, 16, 32, 64]"
      ]
     },
     "execution_count": 15,
     "metadata": {},
     "output_type": "execute_result"
    }
   ],
   "source": [
    "# Try calculating variance ratio for 2,4,8,16,32,64 days. \n",
    "return_day_counts=[2,4,8,16,32,64]\n",
    "return_day_counts"
   ]
  },
  {
   "cell_type": "markdown",
   "id": "a4c2c0d0",
   "metadata": {},
   "source": [
    "## Homoscedasticity assumption"
   ]
  },
  {
   "cell_type": "code",
   "execution_count": 16,
   "id": "fb20c6d7",
   "metadata": {},
   "outputs": [],
   "source": [
    "# Calculate variance ratio, asymptotic variance, standard error, M1 test statistics, z_stat and p_value\n",
    "# under the assumption of homoscedasticity. \n",
    "Lo_MacKinlay_test_parameters = pd.DataFrame()\n",
    "for day_count_k in return_day_counts:\n",
    "    # Calculate the variance for the k-day return values. \n",
    "    day_count_variance = df_prices['LogReturns'].rolling(day_count_k).sum().var()\n",
    "    # Calculate the variance ratio. \n",
    "    variance_ratio = day_count_variance/(variance_single_day*day_count_k)\n",
    "    # Calculate the asymptotic variance and standard error to find the M1 stats value. \n",
    "    asymptotic_variance = (2 * (2 * day_count_k - 1) * (day_count_k - 1)/(3 * day_count_k * number_of_days))\n",
    "    standard_error = asymptotic_variance **(1/2)\n",
    "    # Calculate the M1(r) stats value. \n",
    "    m1_test_stat = (variance_ratio-1)\n",
    "    \n",
    "    # Calculate z-stat value. \n",
    "    z1_stat = m1_test_stat/standard_error\n",
    "    \n",
    "    # Calculate p value from the z1_stat value. \n",
    "    p1_value = 2*(1 - sps.norm.cdf(abs(z1_stat)))\n",
    "    \n",
    "    Lo_MacKinlay_test_parameters[day_count_k] = [variance_single_day,\n",
    "                                          day_count_variance,\n",
    "                                          variance_ratio,\n",
    "                                          asymptotic_variance,\n",
    "                                          standard_error,\n",
    "                                          z1_stat,\n",
    "                                          p1_value]"
   ]
  },
  {
   "cell_type": "code",
   "execution_count": 17,
   "id": "1b07edec",
   "metadata": {},
   "outputs": [
    {
     "data": {
      "text/html": [
       "<div>\n",
       "<style scoped>\n",
       "    .dataframe tbody tr th:only-of-type {\n",
       "        vertical-align: middle;\n",
       "    }\n",
       "\n",
       "    .dataframe tbody tr th {\n",
       "        vertical-align: top;\n",
       "    }\n",
       "\n",
       "    .dataframe thead th {\n",
       "        text-align: right;\n",
       "    }\n",
       "</style>\n",
       "<table border=\"1\" class=\"dataframe\">\n",
       "  <thead>\n",
       "    <tr style=\"text-align: right;\">\n",
       "      <th></th>\n",
       "      <th>2</th>\n",
       "      <th>4</th>\n",
       "      <th>8</th>\n",
       "      <th>16</th>\n",
       "      <th>32</th>\n",
       "      <th>64</th>\n",
       "    </tr>\n",
       "  </thead>\n",
       "  <tbody>\n",
       "    <tr>\n",
       "      <th>var_0</th>\n",
       "      <td>0.006699</td>\n",
       "      <td>0.006699</td>\n",
       "      <td>0.006699</td>\n",
       "      <td>0.006699</td>\n",
       "      <td>0.006699</td>\n",
       "      <td>0.006699</td>\n",
       "    </tr>\n",
       "    <tr>\n",
       "      <th>var_k</th>\n",
       "      <td>0.013331</td>\n",
       "      <td>0.029615</td>\n",
       "      <td>0.067661</td>\n",
       "      <td>0.158285</td>\n",
       "      <td>0.364807</td>\n",
       "      <td>0.919695</td>\n",
       "    </tr>\n",
       "    <tr>\n",
       "      <th>variance_ratio</th>\n",
       "      <td>0.995043</td>\n",
       "      <td>1.105215</td>\n",
       "      <td>1.262553</td>\n",
       "      <td>1.476784</td>\n",
       "      <td>1.701811</td>\n",
       "      <td>2.145172</td>\n",
       "    </tr>\n",
       "    <tr>\n",
       "      <th>asymptotic_variance</th>\n",
       "      <td>0.001546</td>\n",
       "      <td>0.005410</td>\n",
       "      <td>0.013524</td>\n",
       "      <td>0.029946</td>\n",
       "      <td>0.062886</td>\n",
       "      <td>0.128816</td>\n",
       "    </tr>\n",
       "    <tr>\n",
       "      <th>standard_error</th>\n",
       "      <td>0.039314</td>\n",
       "      <td>0.073550</td>\n",
       "      <td>0.116293</td>\n",
       "      <td>0.173049</td>\n",
       "      <td>0.250772</td>\n",
       "      <td>0.358909</td>\n",
       "    </tr>\n",
       "    <tr>\n",
       "      <th>z1_stat</th>\n",
       "      <td>-0.126087</td>\n",
       "      <td>1.430526</td>\n",
       "      <td>2.257696</td>\n",
       "      <td>2.755199</td>\n",
       "      <td>2.798607</td>\n",
       "      <td>3.190703</td>\n",
       "    </tr>\n",
       "    <tr>\n",
       "      <th>p1_value</th>\n",
       "      <td>0.899663</td>\n",
       "      <td>0.152566</td>\n",
       "      <td>0.023965</td>\n",
       "      <td>0.005866</td>\n",
       "      <td>0.005132</td>\n",
       "      <td>0.001419</td>\n",
       "    </tr>\n",
       "  </tbody>\n",
       "</table>\n",
       "</div>"
      ],
      "text/plain": [
       "                           2         4         8         16        32  \\\n",
       "var_0                0.006699  0.006699  0.006699  0.006699  0.006699   \n",
       "var_k                0.013331  0.029615  0.067661  0.158285  0.364807   \n",
       "variance_ratio       0.995043  1.105215  1.262553  1.476784  1.701811   \n",
       "asymptotic_variance  0.001546  0.005410  0.013524  0.029946  0.062886   \n",
       "standard_error       0.039314  0.073550  0.116293  0.173049  0.250772   \n",
       "z1_stat             -0.126087  1.430526  2.257696  2.755199  2.798607   \n",
       "p1_value             0.899663  0.152566  0.023965  0.005866  0.005132   \n",
       "\n",
       "                           64  \n",
       "var_0                0.006699  \n",
       "var_k                0.919695  \n",
       "variance_ratio       2.145172  \n",
       "asymptotic_variance  0.128816  \n",
       "standard_error       0.358909  \n",
       "z1_stat              3.190703  \n",
       "p1_value             0.001419  "
      ]
     },
     "execution_count": 17,
     "metadata": {},
     "output_type": "execute_result"
    }
   ],
   "source": [
    "Lo_MacKinlay_test_parameters.set_axis(['var_0', \n",
    "                                       'var_k', \n",
    "                                       'variance_ratio', \n",
    "                                       'asymptotic_variance', \n",
    "                                       'standard_error',\n",
    "                                       'z1_stat', \n",
    "                                       'p1_value'], \n",
    "                                      inplace=True)\n",
    "Lo_MacKinlay_test_parameters"
   ]
  },
  {
   "cell_type": "code",
   "execution_count": 18,
   "id": "85e4d117",
   "metadata": {},
   "outputs": [
    {
     "data": {
      "text/plain": [
       "[<matplotlib.lines.Line2D at 0x1cd4daa3d30>]"
      ]
     },
     "execution_count": 18,
     "metadata": {},
     "output_type": "execute_result"
    },
    {
     "data": {
      "image/png": "[encoded data removed]",
      "text/plain": [
       "<Figure size 432x288 with 1 Axes>"
      ]
     },
     "metadata": {
      "needs_background": "light"
     },
     "output_type": "display_data"
    }
   ],
   "source": [
    "# Print variance values for each day count (2,4,8,16 etc.). \n",
    "plt.plot(Lo_MacKinlay_test_parameters.loc['var_k'])"
   ]
  },
  {
   "cell_type": "code",
   "execution_count": 19,
   "id": "22f0d280",
   "metadata": {},
   "outputs": [
    {
     "data": {
      "text/plain": [
       "[<matplotlib.lines.Line2D at 0x1cd4e20ea90>]"
      ]
     },
     "execution_count": 19,
     "metadata": {},
     "output_type": "execute_result"
    },
    {
     "data": {
      "image/png": "[encoded data removed]",
      "text/plain": [
       "<Figure size 432x288 with 1 Axes>"
      ]
     },
     "metadata": {
      "needs_background": "light"
     },
     "output_type": "display_data"
    }
   ],
   "source": [
    "# Print variance_ratio values for each day count. \n",
    "plt.plot(Lo_MacKinlay_test_parameters.loc['variance_ratio'])"
   ]
  },
  {
   "cell_type": "code",
   "execution_count": 20,
   "id": "32ee54e3",
   "metadata": {},
   "outputs": [
    {
     "data": {
      "text/plain": [
       "[<matplotlib.lines.Line2D at 0x1cd4e2767c0>]"
      ]
     },
     "execution_count": 20,
     "metadata": {},
     "output_type": "execute_result"
    },
    {
     "data": {
      "image/png": "[encoded data removed]",
      "text/plain": [
       "<Figure size 432x288 with 1 Axes>"
      ]
     },
     "metadata": {
      "needs_background": "light"
     },
     "output_type": "display_data"
    }
   ],
   "source": [
    "# Print asymptotic variance values for each day count.\n",
    "plt.plot(Lo_MacKinlay_test_parameters.loc['asymptotic_variance'])"
   ]
  },
  {
   "cell_type": "code",
   "execution_count": 21,
   "id": "b13f7b56",
   "metadata": {},
   "outputs": [
    {
     "data": {
      "text/plain": [
       "[<matplotlib.lines.Line2D at 0x1cd4f2a0b20>]"
      ]
     },
     "execution_count": 21,
     "metadata": {},
     "output_type": "execute_result"
    },
    {
     "data": {
      "image/png": "[encoded data removed]",
      "text/plain": [
       "<Figure size 432x288 with 1 Axes>"
      ]
     },
     "metadata": {
      "needs_background": "light"
     },
     "output_type": "display_data"
    }
   ],
   "source": [
    "# Print standard error values for each day count.\n",
    "plt.plot(Lo_MacKinlay_test_parameters.loc['standard_error'])"
   ]
  },
  {
   "cell_type": "code",
   "execution_count": 22,
   "id": "acccf43f",
   "metadata": {},
   "outputs": [
    {
     "data": {
      "text/plain": [
       "[<matplotlib.lines.Line2D at 0x1cd4f30a0a0>]"
      ]
     },
     "execution_count": 22,
     "metadata": {},
     "output_type": "execute_result"
    },
    {
     "data": {
      "image/png": "[encoded data removed]",
      "text/plain": [
       "<Figure size 432x288 with 1 Axes>"
      ]
     },
     "metadata": {
      "needs_background": "light"
     },
     "output_type": "display_data"
    }
   ],
   "source": [
    "# Print Z statistics value for each day count.\n",
    "plt.plot(Lo_MacKinlay_test_parameters.loc['z1_stat'])"
   ]
  },
  {
   "cell_type": "code",
   "execution_count": 23,
   "id": "f9bdd6fa",
   "metadata": {},
   "outputs": [
    {
     "data": {
      "text/plain": [
       "[<matplotlib.lines.Line2D at 0x1cd4f354d00>]"
      ]
     },
     "execution_count": 23,
     "metadata": {},
     "output_type": "execute_result"
    },
    {
     "data": {
      "image/png": "[encoded data removed]",
      "text/plain": [
       "<Figure size 432x288 with 1 Axes>"
      ]
     },
     "metadata": {
      "needs_background": "light"
     },
     "output_type": "display_data"
    }
   ],
   "source": [
    "# Print p value for each day count.\n",
    "plt.plot(Lo_MacKinlay_test_parameters.loc['p1_value'])"
   ]
  },
  {
   "cell_type": "markdown",
   "id": "986c8247",
   "metadata": {},
   "source": [
    "### Chow-Denning Test"
   ]
  },
  {
   "cell_type": "code",
   "execution_count": 24,
   "id": "017ab515",
   "metadata": {},
   "outputs": [
    {
     "name": "stdout",
     "output_type": "stream",
     "text": [
      "The market is trending\n"
     ]
    }
   ],
   "source": [
    "# Apply Chow-Denning test \n",
    "min_p_value = min(Lo_MacKinlay_test_parameters.iloc[6])\n",
    "max_z_stat = Lo_MacKinlay_test_parameters.iloc[5][Lo_MacKinlay_test_parameters.iloc[6] == min_p_value].values[0]\n",
    "Chow_Denning = 1 - (1 - min_p_value)**(return_day_counts[-1])\n",
    "if Chow_Denning > 0.1:\n",
    "    print('The market is efficient')\n",
    "elif max_z_stat > 0:\n",
    "    print('The market is trending')\n",
    "else:\n",
    "    print('The market is mean-reverting')"
   ]
  },
  {
   "cell_type": "markdown",
   "id": "59cc4479",
   "metadata": {},
   "source": [
    "## Heteroscedasticity assumption"
   ]
  },
  {
   "cell_type": "code",
   "execution_count": 25,
   "id": "28d7bf08",
   "metadata": {},
   "outputs": [
    {
     "data": {
      "text/plain": [
       "18.254362604382703"
      ]
     },
     "execution_count": 25,
     "metadata": {},
     "output_type": "execute_result"
    }
   ],
   "source": [
    "'''\n",
    "Define a function to calculate the denominator for the heteroscedasticity assumption formula. \n",
    "    input df: The financial data frame\n",
    "'''\n",
    "def calculate_delta_denom(df):\n",
    "    # Calculate the mean return. \n",
    "    mean = df['LogReturns'].mean()\n",
    "    \n",
    "    # Calculate diff values. \n",
    "    diffed_df = df['LogPrices'].diff().dropna()\n",
    "    \n",
    "    # Subtract the mean. \n",
    "    diffed_df.sub(mean)\n",
    "    \n",
    "    # Take the square. \n",
    "    sq_df = diffed_df ** 2\n",
    "    \n",
    "    # Sum and square again. \n",
    "    df_sum = sq_df.sum()\n",
    "    \n",
    "    result = df_sum ** 2\n",
    "    \n",
    "    return result\n",
    "\n",
    "calculate_delta_denom(df_prices)"
   ]
  },
  {
   "cell_type": "code",
   "execution_count": 26,
   "id": "c626420c",
   "metadata": {},
   "outputs": [
    {
     "data": {
      "text/plain": [
       "0.05410153777868506"
      ]
     },
     "execution_count": 26,
     "metadata": {},
     "output_type": "execute_result"
    }
   ],
   "source": [
    "'''\n",
    "Define a function to calculate the nominator for the heteroscedasticity assumption formula. \n",
    "    input df: The financial data frame\n",
    "    input j: The middle stage parameter of 'j' number of days. \n",
    "'''\n",
    "def calculate_delta_nom(df,j):\n",
    "    # Create a copy of the input dataframe to prevent overwrite. \n",
    "    df_copy = df.copy()\n",
    "    \n",
    "    # Calculate the mean return. \n",
    "    mean = df_copy['LogReturns'].mean()\n",
    "    \n",
    "    ## Calculate the first part. \n",
    "    \n",
    "    # Shift the dataframe by -j to start calculating from the jth row. \n",
    "    first_df=df_copy.shift(-j)\n",
    "    \n",
    "    # Get the log_diff/log_return (starting with Xj+1 - Xj) values. \n",
    "    diffed_df = first_df['LogReturns']\n",
    "    \n",
    "    # Subtract the mean. \n",
    "    diffed_df.sub(mean)\n",
    "    \n",
    "    # Take the square. \n",
    "    sq_df_1 = diffed_df ** 2\n",
    "    \n",
    "    ## Calculate the second part. \n",
    "    \n",
    "    second_df=df_copy\n",
    "    \n",
    "    # Get the log_diff/log_return (starting with X1 - X0) values. \n",
    "    diffed_df = second_df['LogReturns']\n",
    "    \n",
    "    # Subtract the mean. \n",
    "    diffed_df.sub(mean)\n",
    "    \n",
    "    # Take the square. \n",
    "    sq_df_2 = diffed_df ** 2\n",
    "    \n",
    "    # Multiply the squared dataframes. \n",
    "    result_df = sq_df_1 * sq_df_2\n",
    "    \n",
    "    # Drop the NA values and take its sum. \n",
    "    \n",
    "    # Sum the resulting df. \n",
    "    result = result_df.dropna().sum()\n",
    "    \n",
    "    return result\n",
    "\n",
    "calculate_delta_nom(df_prices,2)"
   ]
  },
  {
   "cell_type": "code",
   "execution_count": 27,
   "id": "06bb41b4",
   "metadata": {},
   "outputs": [
    {
     "data": {
      "text/plain": [
       "0.002350372370113517"
      ]
     },
     "execution_count": 27,
     "metadata": {},
     "output_type": "execute_result"
    }
   ],
   "source": [
    "'''\n",
    "Define a function to calculate the delta value for the heteroscedasticity assumption formula. \n",
    "    input df: The financial data frame\n",
    "    input j: The middle stage parameter of 'j' number of days. \n",
    "'''\n",
    "def calculate_delta(df,j):\n",
    "    # Calculate the nominator. \n",
    "    nom = calculate_delta_nom(df,j)\n",
    "    # Calculate the denominator. \n",
    "    denom = calculate_delta_denom(df)\n",
    "    \n",
    "    result = nom/denom\n",
    "    \n",
    "    return result\n",
    "\n",
    "calculate_delta(df_prices,1)"
   ]
  },
  {
   "cell_type": "code",
   "execution_count": 28,
   "id": "ba6b5e8d",
   "metadata": {},
   "outputs": [
    {
     "data": {
      "text/plain": [
       "0.009161030483744427"
      ]
     },
     "execution_count": 28,
     "metadata": {},
     "output_type": "execute_result"
    }
   ],
   "source": [
    "''' \n",
    "Define a function to calculate the phi (heteroscedasticity-consistent estimator of k) \n",
    "value for the heteroscedasticity assumption formula. \n",
    "    input df: The financial data frame\n",
    "    input k: The aggregation parameter of 'k' number of days. \n",
    "'''\n",
    "def calculate_phi(df,k):\n",
    "    result = 0\n",
    "    # Loop for k:\n",
    "    for j in range(1,k):\n",
    "        value = ( (4*((k-j)**2) )/(k**2) ) * calculate_delta(df,j)\n",
    "        result += value\n",
    "    \n",
    "    return result\n",
    "\n",
    "calculate_phi(df_prices,4)"
   ]
  },
  {
   "cell_type": "code",
   "execution_count": 29,
   "id": "61bcb353",
   "metadata": {},
   "outputs": [],
   "source": [
    "# Calculate variance ratio, asymptotic variance, standard error, M2 test statistics, z_stat and p_value\n",
    "# under the assumption of heteroscedasticity. \n",
    "Lo_MacKinlay_test_parameters = pd.DataFrame()\n",
    "for day_count_k in return_day_counts:\n",
    "    # Calculate the variance for the k-day return values. \n",
    "    day_count_variance = df_prices['LogReturns'].rolling(day_count_k).sum().var()\n",
    "    # Calculate the variance ratio. \n",
    "    variance_ratio = day_count_variance/(variance_single_day*day_count_k)\n",
    "    # Calculate the M2(r) stats value. \n",
    "    m2_test_stat = (variance_ratio-1)\n",
    "    \n",
    "    # Calculate phi. \n",
    "    phi = calculate_phi(df_prices,day_count_k)\n",
    "    \n",
    "    # Calculate the z-stat, Lo & MacKinlay test statistic for given aggregation parameters. \n",
    "    z2_stat = m2_test_stat/(phi**0.5)\n",
    "    \n",
    "    # Calculate p value from the z2_stat value. \n",
    "    p2_value = 2*(1 - sps.norm.cdf(abs(z2_stat)))\n",
    "    \n",
    "    Lo_MacKinlay_test_parameters[day_count_k] = [variance_single_day,\n",
    "                                                 day_count_variance,\n",
    "                                                 variance_ratio,\n",
    "                                                 phi,\n",
    "                                                 z2_stat,\n",
    "                                                 p2_value]"
   ]
  },
  {
   "cell_type": "code",
   "execution_count": 30,
   "id": "05a11a86",
   "metadata": {},
   "outputs": [
    {
     "data": {
      "text/html": [
       "<div>\n",
       "<style scoped>\n",
       "    .dataframe tbody tr th:only-of-type {\n",
       "        vertical-align: middle;\n",
       "    }\n",
       "\n",
       "    .dataframe tbody tr th {\n",
       "        vertical-align: top;\n",
       "    }\n",
       "\n",
       "    .dataframe thead th {\n",
       "        text-align: right;\n",
       "    }\n",
       "</style>\n",
       "<table border=\"1\" class=\"dataframe\">\n",
       "  <thead>\n",
       "    <tr style=\"text-align: right;\">\n",
       "      <th></th>\n",
       "      <th>2</th>\n",
       "      <th>4</th>\n",
       "      <th>8</th>\n",
       "      <th>16</th>\n",
       "      <th>32</th>\n",
       "      <th>64</th>\n",
       "    </tr>\n",
       "  </thead>\n",
       "  <tbody>\n",
       "    <tr>\n",
       "      <th>var_0</th>\n",
       "      <td>0.006699</td>\n",
       "      <td>0.006699</td>\n",
       "      <td>0.006699</td>\n",
       "      <td>0.006699</td>\n",
       "      <td>0.006699</td>\n",
       "      <td>0.006699</td>\n",
       "    </tr>\n",
       "    <tr>\n",
       "      <th>var_k</th>\n",
       "      <td>0.013331</td>\n",
       "      <td>0.029615</td>\n",
       "      <td>0.067661</td>\n",
       "      <td>0.158285</td>\n",
       "      <td>0.364807</td>\n",
       "      <td>0.919695</td>\n",
       "    </tr>\n",
       "    <tr>\n",
       "      <th>variance_ratio</th>\n",
       "      <td>0.995043</td>\n",
       "      <td>1.105215</td>\n",
       "      <td>1.262553</td>\n",
       "      <td>1.476784</td>\n",
       "      <td>1.701811</td>\n",
       "      <td>2.145172</td>\n",
       "    </tr>\n",
       "    <tr>\n",
       "      <th>phi</th>\n",
       "      <td>0.002350</td>\n",
       "      <td>0.009161</td>\n",
       "      <td>0.023942</td>\n",
       "      <td>0.048324</td>\n",
       "      <td>0.089084</td>\n",
       "      <td>0.165260</td>\n",
       "    </tr>\n",
       "    <tr>\n",
       "      <th>z2_stat</th>\n",
       "      <td>-0.102246</td>\n",
       "      <td>1.099273</td>\n",
       "      <td>1.696839</td>\n",
       "      <td>2.168902</td>\n",
       "      <td>2.351361</td>\n",
       "      <td>2.816997</td>\n",
       "    </tr>\n",
       "    <tr>\n",
       "      <th>p2_value</th>\n",
       "      <td>0.918561</td>\n",
       "      <td>0.271649</td>\n",
       "      <td>0.089727</td>\n",
       "      <td>0.030090</td>\n",
       "      <td>0.018705</td>\n",
       "      <td>0.004847</td>\n",
       "    </tr>\n",
       "  </tbody>\n",
       "</table>\n",
       "</div>"
      ],
      "text/plain": [
       "                      2         4         8         16        32        64\n",
       "var_0           0.006699  0.006699  0.006699  0.006699  0.006699  0.006699\n",
       "var_k           0.013331  0.029615  0.067661  0.158285  0.364807  0.919695\n",
       "variance_ratio  0.995043  1.105215  1.262553  1.476784  1.701811  2.145172\n",
       "phi             0.002350  0.009161  0.023942  0.048324  0.089084  0.165260\n",
       "z2_stat        -0.102246  1.099273  1.696839  2.168902  2.351361  2.816997\n",
       "p2_value        0.918561  0.271649  0.089727  0.030090  0.018705  0.004847"
      ]
     },
     "execution_count": 30,
     "metadata": {},
     "output_type": "execute_result"
    }
   ],
   "source": [
    "Lo_MacKinlay_test_parameters.set_axis(['var_0', \n",
    "                                       'var_k', \n",
    "                                       'variance_ratio', \n",
    "                                       'phi',\n",
    "                                       'z2_stat', \n",
    "                                       'p2_value'], \n",
    "                                      inplace=True)\n",
    "Lo_MacKinlay_test_parameters"
   ]
  },
  {
   "cell_type": "code",
   "execution_count": 31,
   "id": "a3bef076",
   "metadata": {},
   "outputs": [
    {
     "data": {
      "text/plain": [
       "[<matplotlib.lines.Line2D at 0x1cd4f3cc100>]"
      ]
     },
     "execution_count": 31,
     "metadata": {},
     "output_type": "execute_result"
    },
    {
     "data": {
      "image/png": "[encoded data removed]",
      "text/plain": [
       "<Figure size 432x288 with 1 Axes>"
      ]
     },
     "metadata": {
      "needs_background": "light"
     },
     "output_type": "display_data"
    }
   ],
   "source": [
    "# Print Z statistics value for each day count.\n",
    "plt.plot(Lo_MacKinlay_test_parameters.loc['z2_stat'])"
   ]
  },
  {
   "cell_type": "code",
   "execution_count": 32,
   "id": "75577759",
   "metadata": {},
   "outputs": [
    {
     "data": {
      "text/plain": [
       "[<matplotlib.lines.Line2D at 0x1cd4f417f70>]"
      ]
     },
     "execution_count": 32,
     "metadata": {},
     "output_type": "execute_result"
    },
    {
     "data": {
      "image/png": "[encoded data removed]",
      "text/plain": [
       "<Figure size 432x288 with 1 Axes>"
      ]
     },
     "metadata": {
      "needs_background": "light"
     },
     "output_type": "display_data"
    }
   ],
   "source": [
    "# Print p value for each day count.\n",
    "plt.plot(Lo_MacKinlay_test_parameters.loc['p2_value'])"
   ]
  },
  {
   "cell_type": "markdown",
   "id": "a9b65045",
   "metadata": {},
   "source": [
    "### Chow-Denning Test"
   ]
  },
  {
   "cell_type": "code",
   "execution_count": 33,
   "id": "cc1fb2cc",
   "metadata": {},
   "outputs": [
    {
     "name": "stdout",
     "output_type": "stream",
     "text": [
      "The market is efficient\n"
     ]
    }
   ],
   "source": [
    "# Apply Chow-Denning test \n",
    "min_p_value = min(Lo_MacKinlay_test_parameters.iloc[5])\n",
    "max_z_stat = Lo_MacKinlay_test_parameters.iloc[4][Lo_MacKinlay_test_parameters.iloc[5] == min_p_value].values[0]\n",
    "Chow_Denning = 1 - (1 - min_p_value)**(return_day_counts[-1])\n",
    "if Chow_Denning > 0.1:\n",
    "    print('The market is efficient')\n",
    "elif max_z_stat > 0:\n",
    "    print('The market is trending')\n",
    "else:\n",
    "    print('The market is mean-reverting')"
   ]
  },
  {
   "cell_type": "code",
   "execution_count": 34,
   "id": "85a5c9e5",
   "metadata": {},
   "outputs": [],
   "source": [
    "### "
   ]
  }
 ],
 "metadata": {
  "kernelspec": {
   "display_name": "Python 3",
   "language": "python",
   "name": "python3"
  },
  "language_info": {
   "codemirror_mode": {
    "name": "ipython",
    "version": 3
   },
   "file_extension": ".py",
   "mimetype": "text/x-python",
   "name": "python",
   "nbconvert_exporter": "python",
   "pygments_lexer": "ipython3",
   "version": "3.8.8"
  }
 },
 "nbformat": 4,
 "nbformat_minor": 5
}

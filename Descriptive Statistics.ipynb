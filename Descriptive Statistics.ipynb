{
 "cells": [
  {
   "cell_type": "code",
   "execution_count": 1,
   "id": "825b4a28",
   "metadata": {},
   "outputs": [],
   "source": [
    "# Import dependencies\n",
    "import numpy as np\n",
    "import statsmodels.api as sm\n",
    "import pandas as pd\n",
    "import matplotlib.pyplot as plt\n",
    "import datetime as dtm\n",
    "import math\n",
    "import scipy.stats as sps\n",
    "from sklearn.model_selection import KFold\n",
    "import seaborn as sns\n",
    "import scipy.stats as stats\n",
    "from scipy.stats import skew\n",
    "import sigfig"
   ]
  },
  {
   "cell_type": "code",
   "execution_count": 2,
   "id": "ff8dc63f",
   "metadata": {},
   "outputs": [],
   "source": [
    "# Read the previously extracted financial data. \n",
    "#df = pd.read_csv(\"BTCUSD.csv\")\n",
    "#df = pd.read_csv(\"ETHUSD.csv\")\n",
    "#df = pd.read_csv(\"BNBUSD.csv\")\n",
    "#df = pd.read_csv(\"XRPUSD.csv\")\n",
    "#df = pd.read_csv(\"SOLUSD.csv\")\n",
    "#df = pd.read_csv(\"ADAUSD.csv\")\n",
    "#df = pd.read_csv(\"DOGEUSD.csv\")\n",
    "#df = pd.read_csv(\"DOTUSD.csv\")\n",
    "#df = pd.read_csv(\"SHIBUSD.csv\")\n",
    "#df = pd.read_csv(\"AVAXUSD.csv\")\n",
    "df = pd.read_csv(\"MATICUSD.csv\")\n",
    "\n",
    "\n",
    "\n"
   ]
  },
  {
   "cell_type": "code",
   "execution_count": 3,
   "id": "57ae742e",
   "metadata": {},
   "outputs": [
    {
     "name": "stdout",
     "output_type": "stream",
     "text": [
      "1161\n"
     ]
    }
   ],
   "source": [
    "print(len(df))\n"
   ]
  },
  {
   "cell_type": "code",
   "execution_count": 4,
   "id": "3db872a1",
   "metadata": {},
   "outputs": [
    {
     "name": "stderr",
     "output_type": "stream",
     "text": [
      "<ipython-input-4-6f482c90d229>:5: FutureWarning: The default value of regex will change from True to False in a future version. In addition, single character regular expressions will*not* be treated as literal strings when regex=True.\n",
      "  df_prices['Prices'] = df_prices['Prices'].str.replace('$', '')\n"
     ]
    }
   ],
   "source": [
    "df_prices = df[['Date','Close**']]\n",
    "df_prices.columns = ['Date','Prices']\n",
    "df_prices=df_prices.loc[::-1]\n",
    "df_prices.set_index(['Date'], inplace=True)\n",
    "df_prices['Prices'] = df_prices['Prices'].str.replace('$', '')\n",
    "df_prices['Prices'] = df_prices['Prices'].str.replace(',', '')\n",
    "df_prices['Prices'] = df_prices['Prices'].astype(float)\n",
    "df_prices['Ln_Prices'] = np.log(df_prices['Prices'])\n",
    "df_prices['Ln_Prices_prev_day'] = df_prices['Ln_Prices'].shift(1, axis = 0)\n",
    "df_prices['Returns'] = (df_prices['Ln_Prices'] - df_prices['Ln_Prices_prev_day'])*100\n",
    "df_prices.dropna(inplace = True)"
   ]
  },
  {
   "cell_type": "code",
   "execution_count": 5,
   "id": "f9961706",
   "metadata": {},
   "outputs": [
    {
     "data": {
      "text/html": [
       "<div>\n",
       "<style scoped>\n",
       "    .dataframe tbody tr th:only-of-type {\n",
       "        vertical-align: middle;\n",
       "    }\n",
       "\n",
       "    .dataframe tbody tr th {\n",
       "        vertical-align: top;\n",
       "    }\n",
       "\n",
       "    .dataframe thead th {\n",
       "        text-align: right;\n",
       "    }\n",
       "</style>\n",
       "<table border=\"1\" class=\"dataframe\">\n",
       "  <thead>\n",
       "    <tr style=\"text-align: right;\">\n",
       "      <th></th>\n",
       "      <th>Prices</th>\n",
       "      <th>Ln_Prices</th>\n",
       "      <th>Ln_Prices_prev_day</th>\n",
       "      <th>Returns</th>\n",
       "    </tr>\n",
       "    <tr>\n",
       "      <th>Date</th>\n",
       "      <th></th>\n",
       "      <th></th>\n",
       "      <th></th>\n",
       "      <th></th>\n",
       "    </tr>\n",
       "  </thead>\n",
       "  <tbody>\n",
       "    <tr>\n",
       "      <th>Apr 29, 2019</th>\n",
       "      <td>0.003471</td>\n",
       "      <td>-5.663313</td>\n",
       "      <td>-5.421389</td>\n",
       "      <td>-24.192318</td>\n",
       "    </tr>\n",
       "    <tr>\n",
       "      <th>Apr 30, 2019</th>\n",
       "      <td>0.004478</td>\n",
       "      <td>-5.408579</td>\n",
       "      <td>-5.663313</td>\n",
       "      <td>25.473378</td>\n",
       "    </tr>\n",
       "    <tr>\n",
       "      <th>May 01, 2019</th>\n",
       "      <td>0.004374</td>\n",
       "      <td>-5.432077</td>\n",
       "      <td>-5.408579</td>\n",
       "      <td>-2.349860</td>\n",
       "    </tr>\n",
       "    <tr>\n",
       "      <th>May 02, 2019</th>\n",
       "      <td>0.004198</td>\n",
       "      <td>-5.473147</td>\n",
       "      <td>-5.432077</td>\n",
       "      <td>-4.106970</td>\n",
       "    </tr>\n",
       "    <tr>\n",
       "      <th>May 03, 2019</th>\n",
       "      <td>0.004256</td>\n",
       "      <td>-5.459426</td>\n",
       "      <td>-5.473147</td>\n",
       "      <td>1.372153</td>\n",
       "    </tr>\n",
       "    <tr>\n",
       "      <th>...</th>\n",
       "      <td>...</td>\n",
       "      <td>...</td>\n",
       "      <td>...</td>\n",
       "      <td>...</td>\n",
       "    </tr>\n",
       "    <tr>\n",
       "      <th>Jun 27, 2022</th>\n",
       "      <td>0.532700</td>\n",
       "      <td>-0.629797</td>\n",
       "      <td>-0.578569</td>\n",
       "      <td>-5.122759</td>\n",
       "    </tr>\n",
       "    <tr>\n",
       "      <th>Jun 28, 2022</th>\n",
       "      <td>0.511100</td>\n",
       "      <td>-0.671190</td>\n",
       "      <td>-0.629797</td>\n",
       "      <td>-4.139315</td>\n",
       "    </tr>\n",
       "    <tr>\n",
       "      <th>Jun 29, 2022</th>\n",
       "      <td>0.495200</td>\n",
       "      <td>-0.702794</td>\n",
       "      <td>-0.671190</td>\n",
       "      <td>-3.160354</td>\n",
       "    </tr>\n",
       "    <tr>\n",
       "      <th>Jun 30, 2022</th>\n",
       "      <td>0.477400</td>\n",
       "      <td>-0.739401</td>\n",
       "      <td>-0.702794</td>\n",
       "      <td>-3.660701</td>\n",
       "    </tr>\n",
       "    <tr>\n",
       "      <th>Jul 01, 2022</th>\n",
       "      <td>0.461200</td>\n",
       "      <td>-0.773923</td>\n",
       "      <td>-0.739401</td>\n",
       "      <td>-3.452293</td>\n",
       "    </tr>\n",
       "  </tbody>\n",
       "</table>\n",
       "<p>1160 rows × 4 columns</p>\n",
       "</div>"
      ],
      "text/plain": [
       "                Prices  Ln_Prices  Ln_Prices_prev_day    Returns\n",
       "Date                                                            \n",
       "Apr 29, 2019  0.003471  -5.663313           -5.421389 -24.192318\n",
       "Apr 30, 2019  0.004478  -5.408579           -5.663313  25.473378\n",
       "May 01, 2019  0.004374  -5.432077           -5.408579  -2.349860\n",
       "May 02, 2019  0.004198  -5.473147           -5.432077  -4.106970\n",
       "May 03, 2019  0.004256  -5.459426           -5.473147   1.372153\n",
       "...                ...        ...                 ...        ...\n",
       "Jun 27, 2022  0.532700  -0.629797           -0.578569  -5.122759\n",
       "Jun 28, 2022  0.511100  -0.671190           -0.629797  -4.139315\n",
       "Jun 29, 2022  0.495200  -0.702794           -0.671190  -3.160354\n",
       "Jun 30, 2022  0.477400  -0.739401           -0.702794  -3.660701\n",
       "Jul 01, 2022  0.461200  -0.773923           -0.739401  -3.452293\n",
       "\n",
       "[1160 rows x 4 columns]"
      ]
     },
     "execution_count": 5,
     "metadata": {},
     "output_type": "execute_result"
    }
   ],
   "source": [
    "df_prices"
   ]
  },
  {
   "cell_type": "code",
   "execution_count": 6,
   "id": "3cd87aad",
   "metadata": {},
   "outputs": [
    {
     "data": {
      "text/plain": [
       "0.4006"
      ]
     },
     "execution_count": 6,
     "metadata": {},
     "output_type": "execute_result"
    }
   ],
   "source": [
    "sigfig.round(np.mean(df_prices['Returns']), sigfigs=4)"
   ]
  },
  {
   "cell_type": "code",
   "execution_count": 7,
   "id": "e2d2f031",
   "metadata": {},
   "outputs": [
    {
     "data": {
      "text/plain": [
       "0.4006"
      ]
     },
     "execution_count": 7,
     "metadata": {},
     "output_type": "execute_result"
    }
   ],
   "source": [
    "sigfig.round(df_prices['Returns'].mean(), sigfigs=4)"
   ]
  },
  {
   "cell_type": "code",
   "execution_count": 8,
   "id": "a6f5c2ea",
   "metadata": {},
   "outputs": [
    {
     "name": "stderr",
     "output_type": "stream",
     "text": [
      "C:\\Users\\erdoga19\\Anaconda3\\lib\\site-packages\\sigfig\\sigfig.py:586: UserWarning: warning: 4 significant figures requested from number with only 1 significant figures\n",
      "  warn(\"warning: %d significant figures requested from number with only %d significant figures\" % (given['sigfigs'], len(num.map)))\n"
     ]
    },
    {
     "data": {
      "text/plain": [
       "0.0"
      ]
     },
     "execution_count": 8,
     "metadata": {},
     "output_type": "execute_result"
    }
   ],
   "source": [
    "sigfig.round(df_prices['Returns'].median(), sigfigs=4)"
   ]
  },
  {
   "cell_type": "code",
   "execution_count": 9,
   "id": "afe209f1",
   "metadata": {},
   "outputs": [
    {
     "data": {
      "text/plain": [
       "49.84"
      ]
     },
     "execution_count": 9,
     "metadata": {},
     "output_type": "execute_result"
    }
   ],
   "source": [
    "sigfig.round(df_prices['Returns'].max(), sigfigs=4)"
   ]
  },
  {
   "cell_type": "code",
   "execution_count": 10,
   "id": "67e6ea31",
   "metadata": {},
   "outputs": [
    {
     "data": {
      "text/plain": [
       "-71.56"
      ]
     },
     "execution_count": 10,
     "metadata": {},
     "output_type": "execute_result"
    }
   ],
   "source": [
    "sigfig.round(df_prices['Returns'].min(), sigfigs=4)"
   ]
  },
  {
   "cell_type": "code",
   "execution_count": 11,
   "id": "6ecfa932",
   "metadata": {},
   "outputs": [
    {
     "data": {
      "text/plain": [
       "8.761"
      ]
     },
     "execution_count": 11,
     "metadata": {},
     "output_type": "execute_result"
    }
   ],
   "source": [
    "sigfig.round(np.std(df_prices['Returns']), sigfigs=4)"
   ]
  },
  {
   "cell_type": "code",
   "execution_count": 12,
   "id": "52d21a04",
   "metadata": {},
   "outputs": [
    {
     "data": {
      "text/plain": [
       "0.008934"
      ]
     },
     "execution_count": 12,
     "metadata": {},
     "output_type": "execute_result"
    }
   ],
   "source": [
    "sigfig.round(df_prices['Returns'].skew(), sigfigs=4)"
   ]
  },
  {
   "cell_type": "code",
   "execution_count": 13,
   "id": "0a2b3c2f",
   "metadata": {},
   "outputs": [
    {
     "data": {
      "text/plain": [
       "14.79"
      ]
     },
     "execution_count": 13,
     "metadata": {},
     "output_type": "execute_result"
    }
   ],
   "source": [
    "sigfig.round(stats.kurtosis(df_prices['Returns'], fisher=False), sigfigs=4)"
   ]
  },
  {
   "cell_type": "code",
   "execution_count": 14,
   "id": "a955f0df",
   "metadata": {},
   "outputs": [
    {
     "data": {
      "text/plain": [
       "Jarque_beraResult(statistic=6719.06332702859, pvalue=0.0)"
      ]
     },
     "execution_count": 14,
     "metadata": {},
     "output_type": "execute_result"
    }
   ],
   "source": [
    "stats.jarque_bera(df_prices['Returns'])"
   ]
  },
  {
   "cell_type": "code",
   "execution_count": 15,
   "id": "ffc55951",
   "metadata": {},
   "outputs": [
    {
     "data": {
      "text/plain": [
       "count    1160.000000\n",
       "mean        0.400644\n",
       "std         8.765273\n",
       "min       -71.559449\n",
       "25%        -3.885475\n",
       "50%         0.000000\n",
       "75%         3.886374\n",
       "max        49.838073\n",
       "Name: Returns, dtype: float64"
      ]
     },
     "execution_count": 15,
     "metadata": {},
     "output_type": "execute_result"
    }
   ],
   "source": [
    "df_prices['Returns'].describe()"
   ]
  },
  {
   "cell_type": "markdown",
   "id": "4da281fc",
   "metadata": {},
   "source": []
  }
 ],
 "metadata": {
  "kernelspec": {
   "display_name": "Python 3",
   "language": "python",
   "name": "python3"
  },
  "language_info": {
   "codemirror_mode": {
    "name": "ipython",
    "version": 3
   },
   "file_extension": ".py",
   "mimetype": "text/x-python",
   "name": "python",
   "nbconvert_exporter": "python",
   "pygments_lexer": "ipython3",
   "version": "3.8.8"
  }
 },
 "nbformat": 4,
 "nbformat_minor": 5
}
